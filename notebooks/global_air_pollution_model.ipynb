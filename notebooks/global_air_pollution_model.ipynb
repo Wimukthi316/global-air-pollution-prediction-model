{
  "cells": [
    {
      "cell_type": "code",
      "execution_count": 2,
      "metadata": {
        "colab": {
          "base_uri": "https://localhost:8080/"
        },
        "id": "6K7DBpxmiG0B",
        "outputId": "6b2fc515-b2d0-46bb-eb39-cea55cbf4330"
      },
      "outputs": [
        {
          "name": "stdout",
          "output_type": "stream",
          "text": [
            "              Country              City  AQI Value AQI Category  CO AQI Value  \\\n",
            "0  Russian Federation        Praskoveya         51     Moderate             1   \n",
            "1              Brazil  Presidente Dutra         41         Good             1   \n",
            "2               Italy   Priolo Gargallo         66     Moderate             1   \n",
            "3              Poland         Przasnysz         34         Good             1   \n",
            "4              France          Punaauia         22         Good             0   \n",
            "\n",
            "  CO AQI Category  Ozone AQI Value Ozone AQI Category  NO2 AQI Value  \\\n",
            "0            Good               36               Good              0   \n",
            "1            Good                5               Good              1   \n",
            "2            Good               39               Good              2   \n",
            "3            Good               34               Good              0   \n",
            "4            Good               22               Good              0   \n",
            "\n",
            "  NO2 AQI Category  PM2.5 AQI Value PM2.5 AQI Category  \n",
            "0             Good               51           Moderate  \n",
            "1             Good               41               Good  \n",
            "2             Good               66           Moderate  \n",
            "3             Good               20               Good  \n",
            "4             Good                6               Good  \n"
          ]
        }
      ],
      "source": [
        "import pandas as pd\n",
        "# Load the dataset\n",
        "df = pd.read_csv('global air pollution dataset.csv')\n",
        "# Display the first few rows to understand it\n",
        "print(df.head())\n"
      ]
    },
    {
      "cell_type": "code",
      "execution_count": 37,
      "metadata": {
        "colab": {
          "base_uri": "https://localhost:8080/"
        },
        "id": "SHYbcpg2iMGH",
        "outputId": "f139ae8e-2f43-4eb8-e9cd-a5f10ac69676"
      },
      "outputs": [
        {
          "name": "stdout",
          "output_type": "stream",
          "text": [
            "<class 'pandas.core.frame.DataFrame'>\n",
            "Index: 23035 entries, 0 to 23462\n",
            "Data columns (total 12 columns):\n",
            " #   Column              Non-Null Count  Dtype \n",
            "---  ------              --------------  ----- \n",
            " 0   Country             23035 non-null  object\n",
            " 1   City                23035 non-null  object\n",
            " 2   AQI Value           23035 non-null  int64 \n",
            " 3   AQI Category        23035 non-null  object\n",
            " 4   CO AQI Value        23035 non-null  int64 \n",
            " 5   CO AQI Category     23035 non-null  object\n",
            " 6   Ozone AQI Value     23035 non-null  int64 \n",
            " 7   Ozone AQI Category  23035 non-null  object\n",
            " 8   NO2 AQI Value       23035 non-null  int64 \n",
            " 9   NO2 AQI Category    23035 non-null  object\n",
            " 10  PM2.5 AQI Value     23035 non-null  int64 \n",
            " 11  PM2.5 AQI Category  23035 non-null  object\n",
            "dtypes: int64(5), object(7)\n",
            "memory usage: 2.3+ MB\n"
          ]
        }
      ],
      "source": [
        "#AQI means Air Quality Index\n",
        "df.info()"
      ]
    },
    {
      "cell_type": "code",
      "execution_count": 38,
      "metadata": {
        "colab": {
          "base_uri": "https://localhost:8080/",
          "height": 300
        },
        "id": "V9phRSABiMCl",
        "outputId": "55f3bd6d-fb64-4ff1-fea0-e7a0e699202c"
      },
      "outputs": [
        {
          "data": {
            "text/html": [
              "<div>\n",
              "<style scoped>\n",
              "    .dataframe tbody tr th:only-of-type {\n",
              "        vertical-align: middle;\n",
              "    }\n",
              "\n",
              "    .dataframe tbody tr th {\n",
              "        vertical-align: top;\n",
              "    }\n",
              "\n",
              "    .dataframe thead th {\n",
              "        text-align: right;\n",
              "    }\n",
              "</style>\n",
              "<table border=\"1\" class=\"dataframe\">\n",
              "  <thead>\n",
              "    <tr style=\"text-align: right;\">\n",
              "      <th></th>\n",
              "      <th>AQI Value</th>\n",
              "      <th>CO AQI Value</th>\n",
              "      <th>Ozone AQI Value</th>\n",
              "      <th>NO2 AQI Value</th>\n",
              "      <th>PM2.5 AQI Value</th>\n",
              "    </tr>\n",
              "  </thead>\n",
              "  <tbody>\n",
              "    <tr>\n",
              "      <th>count</th>\n",
              "      <td>23035.000000</td>\n",
              "      <td>23035.000000</td>\n",
              "      <td>23035.000000</td>\n",
              "      <td>23035.000000</td>\n",
              "      <td>23035.000000</td>\n",
              "    </tr>\n",
              "    <tr>\n",
              "      <th>mean</th>\n",
              "      <td>72.344693</td>\n",
              "      <td>1.376254</td>\n",
              "      <td>35.233905</td>\n",
              "      <td>3.084741</td>\n",
              "      <td>68.883482</td>\n",
              "    </tr>\n",
              "    <tr>\n",
              "      <th>std</th>\n",
              "      <td>56.360992</td>\n",
              "      <td>1.844926</td>\n",
              "      <td>28.236613</td>\n",
              "      <td>5.281708</td>\n",
              "      <td>55.057396</td>\n",
              "    </tr>\n",
              "    <tr>\n",
              "      <th>min</th>\n",
              "      <td>6.000000</td>\n",
              "      <td>0.000000</td>\n",
              "      <td>0.000000</td>\n",
              "      <td>0.000000</td>\n",
              "      <td>0.000000</td>\n",
              "    </tr>\n",
              "    <tr>\n",
              "      <th>25%</th>\n",
              "      <td>39.000000</td>\n",
              "      <td>1.000000</td>\n",
              "      <td>21.000000</td>\n",
              "      <td>0.000000</td>\n",
              "      <td>35.000000</td>\n",
              "    </tr>\n",
              "    <tr>\n",
              "      <th>50%</th>\n",
              "      <td>55.000000</td>\n",
              "      <td>1.000000</td>\n",
              "      <td>31.000000</td>\n",
              "      <td>1.000000</td>\n",
              "      <td>54.000000</td>\n",
              "    </tr>\n",
              "    <tr>\n",
              "      <th>75%</th>\n",
              "      <td>80.000000</td>\n",
              "      <td>1.000000</td>\n",
              "      <td>40.000000</td>\n",
              "      <td>4.000000</td>\n",
              "      <td>79.000000</td>\n",
              "    </tr>\n",
              "    <tr>\n",
              "      <th>max</th>\n",
              "      <td>500.000000</td>\n",
              "      <td>133.000000</td>\n",
              "      <td>235.000000</td>\n",
              "      <td>91.000000</td>\n",
              "      <td>500.000000</td>\n",
              "    </tr>\n",
              "  </tbody>\n",
              "</table>\n",
              "</div>"
            ],
            "text/plain": [
              "          AQI Value  CO AQI Value  Ozone AQI Value  NO2 AQI Value  \\\n",
              "count  23035.000000  23035.000000     23035.000000   23035.000000   \n",
              "mean      72.344693      1.376254        35.233905       3.084741   \n",
              "std       56.360992      1.844926        28.236613       5.281708   \n",
              "min        6.000000      0.000000         0.000000       0.000000   \n",
              "25%       39.000000      1.000000        21.000000       0.000000   \n",
              "50%       55.000000      1.000000        31.000000       1.000000   \n",
              "75%       80.000000      1.000000        40.000000       4.000000   \n",
              "max      500.000000    133.000000       235.000000      91.000000   \n",
              "\n",
              "       PM2.5 AQI Value  \n",
              "count     23035.000000  \n",
              "mean         68.883482  \n",
              "std          55.057396  \n",
              "min           0.000000  \n",
              "25%          35.000000  \n",
              "50%          54.000000  \n",
              "75%          79.000000  \n",
              "max         500.000000  "
            ]
          },
          "execution_count": 38,
          "metadata": {},
          "output_type": "execute_result"
        }
      ],
      "source": [
        "df.describe()"
      ]
    },
    {
      "cell_type": "code",
      "execution_count": 39,
      "metadata": {
        "colab": {
          "base_uri": "https://localhost:8080/",
          "height": 460
        },
        "id": "JkwptBT0iMAI",
        "outputId": "c19472f6-42a7-4bc3-d41c-b9f1494278df"
      },
      "outputs": [
        {
          "data": {
            "text/plain": [
              "Country               0\n",
              "City                  0\n",
              "AQI Value             0\n",
              "AQI Category          0\n",
              "CO AQI Value          0\n",
              "CO AQI Category       0\n",
              "Ozone AQI Value       0\n",
              "Ozone AQI Category    0\n",
              "NO2 AQI Value         0\n",
              "NO2 AQI Category      0\n",
              "PM2.5 AQI Value       0\n",
              "PM2.5 AQI Category    0\n",
              "dtype: int64"
            ]
          },
          "execution_count": 39,
          "metadata": {},
          "output_type": "execute_result"
        }
      ],
      "source": [
        "df.isnull().sum()\n"
      ]
    },
    {
      "cell_type": "code",
      "execution_count": 40,
      "metadata": {
        "colab": {
          "base_uri": "https://localhost:8080/"
        },
        "id": "vgmFS1i0iL95",
        "outputId": "f87175b7-2394-47e7-d5d7-32e9aeb1f555"
      },
      "outputs": [
        {
          "name": "stdout",
          "output_type": "stream",
          "text": [
            "Rows before dropping: 23035\n"
          ]
        }
      ],
      "source": [
        "#There are missing values on the Country column and City\n",
        "#We cannot fill the categorical values with mean or meadian\n",
        "#If we fill those rows with mode or Unknown it's goining to affect the model performance.\n",
        "#In conclution we can remve those null rows because in country column there are 428 rows null\n",
        "#therer are total of 23463 rows availbale so 428/23463 = 1.8% so if we romove the null rows it's not goining to affect the model performance.\n",
        "\n",
        "# Print the number of rows before dropping\n",
        "print(\"Rows before dropping:\", len(df))\n"
      ]
    },
    {
      "cell_type": "code",
      "execution_count": 41,
      "metadata": {
        "id": "Oo3FwC7QiL7y"
      },
      "outputs": [],
      "source": [
        "# Drop rows where 'Country' or 'City' is null\n",
        "# inplace=True means the change will happen directly to our 'df' dataframe\n",
        "\n",
        "df.dropna(subset=['Country', 'City'], inplace=True)\n"
      ]
    },
    {
      "cell_type": "code",
      "execution_count": 42,
      "metadata": {
        "colab": {
          "base_uri": "https://localhost:8080/"
        },
        "id": "ZYLMTQJDiL6D",
        "outputId": "bd1a5fb3-cc64-440c-dc38-6c82dfedcf16"
      },
      "outputs": [
        {
          "name": "stdout",
          "output_type": "stream",
          "text": [
            "Rows after dropping: 23035\n"
          ]
        }
      ],
      "source": [
        "# Print the number of rows after dropping to see the change\n",
        "print(\"Rows after dropping:\", len(df))\n"
      ]
    },
    {
      "cell_type": "code",
      "execution_count": 43,
      "metadata": {
        "colab": {
          "base_uri": "https://localhost:8080/"
        },
        "id": "mkEoc1wXiL3H",
        "outputId": "aa8bdfb6-9815-495d-e738-a873b0ef1987"
      },
      "outputs": [
        {
          "name": "stdout",
          "output_type": "stream",
          "text": [
            "\n",
            "Missing values after cleaning:\n",
            "Country               0\n",
            "City                  0\n",
            "AQI Value             0\n",
            "AQI Category          0\n",
            "CO AQI Value          0\n",
            "CO AQI Category       0\n",
            "Ozone AQI Value       0\n",
            "Ozone AQI Category    0\n",
            "NO2 AQI Value         0\n",
            "NO2 AQI Category      0\n",
            "PM2.5 AQI Value       0\n",
            "PM2.5 AQI Category    0\n",
            "dtype: int64\n"
          ]
        }
      ],
      "source": [
        "# Check for missing values again\n",
        "print(\"\\nMissing values after cleaning:\")\n",
        "print(df.isnull().sum())\n"
      ]
    },
    {
      "cell_type": "code",
      "execution_count": 44,
      "metadata": {
        "id": "iVrT8ixJiL0r"
      },
      "outputs": [],
      "source": [
        "#Remove Data Leakages\n",
        "# List of columns to drop\n",
        "columns_to_drop = [\n",
        "    'AQI Value',\n",
        "    'AQI Category',\n",
        "    'CO AQI Category',\n",
        "    'Ozone AQI Category',\n",
        "    'NO2 AQI Category',\n",
        "    'PM2.5 AQI Category'\n",
        "]"
      ]
    },
    {
      "cell_type": "code",
      "execution_count": 45,
      "metadata": {
        "id": "aBCFL8PCiLya"
      },
      "outputs": [],
      "source": [
        "# Drop the columns from the DataFrame\n",
        "# We are creating a new DataFrame 'df_cleaned' to be safe\n",
        "df_cleaned = df.drop(columns=columns_to_drop, axis=1)\n"
      ]
    },
    {
      "cell_type": "code",
      "execution_count": 46,
      "metadata": {
        "colab": {
          "base_uri": "https://localhost:8080/"
        },
        "id": "-rEVAozDiLwE",
        "outputId": "f7d7acb9-d1d4-45b5-b410-a9c94270f62a"
      },
      "outputs": [
        {
          "name": "stdout",
          "output_type": "stream",
          "text": [
            "DataFrame after dropping leaky columns:\n",
            "              Country              City  CO AQI Value  Ozone AQI Value  \\\n",
            "0  Russian Federation        Praskoveya             1               36   \n",
            "1              Brazil  Presidente Dutra             1                5   \n",
            "2               Italy   Priolo Gargallo             1               39   \n",
            "3              Poland         Przasnysz             1               34   \n",
            "4              France          Punaauia             0               22   \n",
            "\n",
            "   NO2 AQI Value  PM2.5 AQI Value  \n",
            "0              0               51  \n",
            "1              1               41  \n",
            "2              2               66  \n",
            "3              0               20  \n",
            "4              0                6  \n"
          ]
        }
      ],
      "source": [
        "# Display the first few rows of the new cleaned DataFrame to check\n",
        "print(\"DataFrame after dropping leaky columns:\")\n",
        "print(df_cleaned.head())"
      ]
    },
    {
      "cell_type": "code",
      "execution_count": 47,
      "metadata": {
        "colab": {
          "base_uri": "https://localhost:8080/"
        },
        "id": "lSA0b_TKiLt4",
        "outputId": "2f379272-3bf1-451f-c53a-a69d5d24e331"
      },
      "outputs": [
        {
          "name": "stdout",
          "output_type": "stream",
          "text": [
            "Shape before dropping City: (23035, 6)\n",
            "Shape after dropping City: (23035, 5)\n"
          ]
        }
      ],
      "source": [
        "# Drop the 'City' column because of the Curse of Dimensionality\n",
        "\n",
        "print(\"Shape before dropping City:\", df_cleaned.shape)\n",
        "df_cleaned = df_cleaned.drop(columns=['City'])\n",
        "print(\"Shape after dropping City:\", df_cleaned.shape)"
      ]
    },
    {
      "cell_type": "code",
      "execution_count": 48,
      "metadata": {
        "colab": {
          "base_uri": "https://localhost:8080/"
        },
        "id": "Kp6yy4GpiLrm",
        "outputId": "7fb7ab5f-6d61-45e0-deef-90ba61e8a2d0"
      },
      "outputs": [
        {
          "name": "stdout",
          "output_type": "stream",
          "text": [
            "\n",
            "New columns: Index(['Country', 'CO AQI Value', 'Ozone AQI Value', 'NO2 AQI Value',\n",
            "       'PM2.5 AQI Value'],\n",
            "      dtype='object')\n"
          ]
        }
      ],
      "source": [
        "# Check the new columns\n",
        "print(\"\\nNew columns:\", df_cleaned.columns)"
      ]
    },
    {
      "cell_type": "code",
      "execution_count": 49,
      "metadata": {
        "colab": {
          "base_uri": "https://localhost:8080/"
        },
        "id": "jCzjaGrLiLpY",
        "outputId": "7e207c40-1ae2-4bdf-8d65-be69f9c03797"
      },
      "outputs": [
        {
          "name": "stdout",
          "output_type": "stream",
          "text": [
            "Original shape: (23035, 5)\n"
          ]
        }
      ],
      "source": [
        "print(\"Original shape:\", df_cleaned.shape)"
      ]
    },
    {
      "cell_type": "code",
      "execution_count": 50,
      "metadata": {
        "colab": {
          "base_uri": "https://localhost:8080/"
        },
        "id": "zICjYYM3iLm6",
        "outputId": "5f9a8892-55d9-4835-9f42-5ae745238e68"
      },
      "outputs": [
        {
          "name": "stdout",
          "output_type": "stream",
          "text": [
            "\n",
            "Starting One-Hot Encoding...\n"
          ]
        }
      ],
      "source": [
        "#Encording Country using One-Hot Encoding\n",
        "#If we get the City Column we have to Encode it as well\n",
        "# Apply One-Hot Encoding using pandas get_dummies\n",
        "# This will find all text columns and convert them\n",
        "\n",
        "print(\"\\nStarting One-Hot Encoding...\")\n",
        "df_encoded = pd.get_dummies(df_cleaned, columns=['Country'], drop_first=True)"
      ]
    },
    {
      "cell_type": "code",
      "execution_count": 51,
      "metadata": {
        "colab": {
          "base_uri": "https://localhost:8080/"
        },
        "id": "qIMp3LB6jQC-",
        "outputId": "81e83177-cddf-4d4a-f9fd-a93fa202fc14"
      },
      "outputs": [
        {
          "name": "stdout",
          "output_type": "stream",
          "text": [
            "\n",
            "DataFrame after One-Hot Encoding:\n",
            "   CO AQI Value  Ozone AQI Value  NO2 AQI Value  PM2.5 AQI Value  \\\n",
            "0             1               36              0               51   \n",
            "1             1                5              1               41   \n",
            "2             1               39              2               66   \n",
            "3             1               34              0               20   \n",
            "4             0               22              0                6   \n",
            "\n",
            "   Country_Albania  Country_Algeria  Country_Andorra  Country_Angola  \\\n",
            "0            False            False            False           False   \n",
            "1            False            False            False           False   \n",
            "2            False            False            False           False   \n",
            "3            False            False            False           False   \n",
            "4            False            False            False           False   \n",
            "\n",
            "   Country_Argentina  Country_Armenia  ...  \\\n",
            "0              False            False  ...   \n",
            "1              False            False  ...   \n",
            "2              False            False  ...   \n",
            "3              False            False  ...   \n",
            "4              False            False  ...   \n",
            "\n",
            "   Country_United Republic of Tanzania  Country_United States of America  \\\n",
            "0                                False                             False   \n",
            "1                                False                             False   \n",
            "2                                False                             False   \n",
            "3                                False                             False   \n",
            "4                                False                             False   \n",
            "\n",
            "   Country_Uruguay  Country_Uzbekistan  Country_Vanuatu  \\\n",
            "0            False               False            False   \n",
            "1            False               False            False   \n",
            "2            False               False            False   \n",
            "3            False               False            False   \n",
            "4            False               False            False   \n",
            "\n",
            "   Country_Venezuela (Bolivarian Republic of)  Country_Viet Nam  \\\n",
            "0                                       False             False   \n",
            "1                                       False             False   \n",
            "2                                       False             False   \n",
            "3                                       False             False   \n",
            "4                                       False             False   \n",
            "\n",
            "   Country_Yemen  Country_Zambia  Country_Zimbabwe  \n",
            "0          False           False             False  \n",
            "1          False           False             False  \n",
            "2          False           False             False  \n",
            "3          False           False             False  \n",
            "4          False           False             False  \n",
            "\n",
            "[5 rows x 178 columns]\n"
          ]
        }
      ],
      "source": [
        "\n",
        "# Display the first few rows of the new encoded DataFrame\n",
        "print(\"\\nDataFrame after One-Hot Encoding:\")\n",
        "print(df_encoded.head())\n"
      ]
    },
    {
      "cell_type": "code",
      "execution_count": 52,
      "metadata": {
        "colab": {
          "base_uri": "https://localhost:8080/"
        },
        "id": "cz17G1KgjP_o",
        "outputId": "76977361-001a-486f-f44a-6fcbed438873"
      },
      "outputs": [
        {
          "name": "stdout",
          "output_type": "stream",
          "text": [
            "\n",
            "New shape: (23035, 178)\n"
          ]
        }
      ],
      "source": [
        "# Check the new shape. You will see a lot more columns!\n",
        "print(\"\\nNew shape:\", df_encoded.shape)\n"
      ]
    },
    {
      "cell_type": "code",
      "execution_count": 53,
      "metadata": {
        "id": "WdSm8IM7jP9W"
      },
      "outputs": [],
      "source": [
        "# Define the Target (y)\n",
        "# We want to predict the 'PM2.5 AQI Value'\n",
        "\n",
        "y = df_encoded['PM2.5 AQI Value']\n"
      ]
    },
    {
      "cell_type": "code",
      "execution_count": 54,
      "metadata": {
        "id": "1AbuNgWJjP7B"
      },
      "outputs": [],
      "source": [
        "# Define the Features (X)\n",
        "# X is everything ELSE, so we drop the target column from the DataFrame\n",
        "\n",
        "X = df_encoded.drop(columns=['PM2.5 AQI Value'], axis=1)"
      ]
    },
    {
      "cell_type": "code",
      "execution_count": 55,
      "metadata": {
        "colab": {
          "base_uri": "https://localhost:8080/"
        },
        "id": "jDoHIbtnjP44",
        "outputId": "8a6f8df9-b442-435b-8822-5dc38c704590"
      },
      "outputs": [
        {
          "name": "stdout",
          "output_type": "stream",
          "text": [
            "Shape of X (Features): (23035, 177)\n",
            "Shape of y (Target): (23035,)\n"
          ]
        }
      ],
      "source": [
        "# Check the shapes to make sure it's correct\n",
        "print(\"Shape of X (Features):\", X.shape)\n",
        "print(\"Shape of y (Target):\", y.shape)"
      ]
    },
    {
      "cell_type": "code",
      "execution_count": 56,
      "metadata": {
        "colab": {
          "base_uri": "https://localhost:8080/"
        },
        "id": "7sCr4c_yjP2r",
        "outputId": "68d40a37-d26a-4107-cedc-f81086d4b486"
      },
      "outputs": [
        {
          "name": "stdout",
          "output_type": "stream",
          "text": [
            "\n",
            "First 5 rows of X:\n",
            "   CO AQI Value  Ozone AQI Value  NO2 AQI Value  Country_Albania  \\\n",
            "0             1               36              0            False   \n",
            "1             1                5              1            False   \n",
            "2             1               39              2            False   \n",
            "3             1               34              0            False   \n",
            "4             0               22              0            False   \n",
            "\n",
            "   Country_Algeria  Country_Andorra  Country_Angola  Country_Argentina  \\\n",
            "0            False            False           False              False   \n",
            "1            False            False           False              False   \n",
            "2            False            False           False              False   \n",
            "3            False            False           False              False   \n",
            "4            False            False           False              False   \n",
            "\n",
            "   Country_Armenia  Country_Aruba  ...  Country_United Republic of Tanzania  \\\n",
            "0            False          False  ...                                False   \n",
            "1            False          False  ...                                False   \n",
            "2            False          False  ...                                False   \n",
            "3            False          False  ...                                False   \n",
            "4            False          False  ...                                False   \n",
            "\n",
            "   Country_United States of America  Country_Uruguay  Country_Uzbekistan  \\\n",
            "0                             False            False               False   \n",
            "1                             False            False               False   \n",
            "2                             False            False               False   \n",
            "3                             False            False               False   \n",
            "4                             False            False               False   \n",
            "\n",
            "   Country_Vanuatu  Country_Venezuela (Bolivarian Republic of)  \\\n",
            "0            False                                       False   \n",
            "1            False                                       False   \n",
            "2            False                                       False   \n",
            "3            False                                       False   \n",
            "4            False                                       False   \n",
            "\n",
            "   Country_Viet Nam  Country_Yemen  Country_Zambia  Country_Zimbabwe  \n",
            "0             False          False           False             False  \n",
            "1             False          False           False             False  \n",
            "2             False          False           False             False  \n",
            "3             False          False           False             False  \n",
            "4             False          False           False             False  \n",
            "\n",
            "[5 rows x 177 columns]\n",
            "\n",
            "First 5 values of y:\n",
            "0    51\n",
            "1    41\n",
            "2    66\n",
            "3    20\n",
            "4     6\n",
            "Name: PM2.5 AQI Value, dtype: int64\n"
          ]
        }
      ],
      "source": [
        "# You can also look at the first few rows of each\n",
        "print(\"\\nFirst 5 rows of X:\")\n",
        "print(X.head())\n",
        "print(\"\\nFirst 5 values of y:\")\n",
        "print(y.head())"
      ]
    },
    {
      "cell_type": "code",
      "execution_count": 57,
      "metadata": {
        "id": "_uEJ5QYTjP0i"
      },
      "outputs": [],
      "source": [
        "# Train The model\n",
        "\n",
        "from sklearn.model_selection import train_test_split\n",
        "\n",
        "X_train, X_test, y_train, y_test = train_test_split(X, y, test_size=0.2, random_state=42)"
      ]
    },
    {
      "cell_type": "code",
      "execution_count": 58,
      "metadata": {
        "colab": {
          "base_uri": "https://localhost:8080/"
        },
        "id": "wtK7cI5DjPyn",
        "outputId": "2133ad6b-5c80-4bfb-c97d-7026ef45ab30"
      },
      "outputs": [
        {
          "name": "stdout",
          "output_type": "stream",
          "text": [
            "Shape of X_train: (18428, 177)\n",
            "Shape of X_test: (4607, 177)\n",
            "Shape of y_train: (18428,)\n",
            "Shape of y_test: (4607,)\n"
          ]
        }
      ],
      "source": [
        "# Check the shapes of the new sets\n",
        "print(\"Shape of X_train:\", X_train.shape)\n",
        "print(\"Shape of X_test:\", X_test.shape)\n",
        "print(\"Shape of y_train:\", y_train.shape)\n",
        "print(\"Shape of y_test:\", y_test.shape)"
      ]
    },
    {
      "cell_type": "code",
      "execution_count": 59,
      "metadata": {
        "id": "uhg_qrIIjPwv"
      },
      "outputs": [],
      "source": [
        "from sklearn.linear_model import LinearRegression\n",
        "\n",
        "# Create an empty instance of the Linear Regression model\n",
        "# We'll call our model 'lr_model' (Linear Regression)\n",
        "\n",
        "lr_model = LinearRegression()"
      ]
    },
    {
      "cell_type": "code",
      "execution_count": 60,
      "metadata": {
        "colab": {
          "base_uri": "https://localhost:8080/"
        },
        "id": "IUCoW0IgjPup",
        "outputId": "4c6f1b4c-36ff-4823-cd6d-36964ef5156e"
      },
      "outputs": [
        {
          "name": "stdout",
          "output_type": "stream",
          "text": [
            "Training the Linear Regression model...\n",
            "Training complete!\n"
          ]
        }
      ],
      "source": [
        "# Train the model using our training data\n",
        "# This is where the model \"learns\"\n",
        "print(\"Training the Linear Regression model...\")\n",
        "lr_model.fit(X_train, y_train)\n",
        "print(\"Training complete!\")"
      ]
    },
    {
      "cell_type": "code",
      "execution_count": 61,
      "metadata": {
        "colab": {
          "base_uri": "https://localhost:8080/"
        },
        "id": "FIshxvNqjPsD",
        "outputId": "a1e2b93d-528c-4b56-fe00-ffd5e4c463ca"
      },
      "outputs": [
        {
          "name": "stdout",
          "output_type": "stream",
          "text": [
            "Making predictions on the test data...\n",
            "Predictions are ready!\n"
          ]
        }
      ],
      "source": [
        "# Use the trained model (lr_model) to make predictions on the test data (X_test)\n",
        "print(\"Making predictions on the test data...\")\n",
        "y_pred_lr = lr_model.predict(X_test)\n",
        "print(\"Predictions are ready!\")"
      ]
    },
    {
      "cell_type": "code",
      "execution_count": 62,
      "metadata": {
        "colab": {
          "base_uri": "https://localhost:8080/"
        },
        "id": "7PHu4IXsjPqB",
        "outputId": "df87697d-27fa-4659-bdfd-ae817521de79"
      },
      "outputs": [
        {
          "name": "stdout",
          "output_type": "stream",
          "text": [
            "\n",
            "First 5 Predictions: [143.28743436 133.46314589  26.96426152 146.23900771  34.92835843]\n",
            "First 5 Actual Values: [139 154  32  99  97]\n"
          ]
        }
      ],
      "source": [
        "# You can look at the first 5 predictions and compare them with the first 5 actual values\n",
        "print(\"\\nFirst 5 Predictions:\", y_pred_lr[:5])\n",
        "print(\"First 5 Actual Values:\", y_test.values[:5])\n"
      ]
    },
    {
      "cell_type": "code",
      "execution_count": 63,
      "metadata": {
        "id": "uf8HURZxjPn7"
      },
      "outputs": [],
      "source": [
        "import numpy as np\n",
        "from sklearn.metrics import r2_score, mean_absolute_error, mean_squared_error\n",
        "\n",
        "r2_lr = r2_score(y_test, y_pred_lr)\n",
        "mae_lr = mean_absolute_error(y_test, y_pred_lr)\n",
        "\n",
        "# First, calculate the Mean Squared Error (MSE)\n",
        "mse_lr = mean_squared_error(y_test, y_pred_lr)\n",
        "# Then, get the square root of the MSE to find the RMSE\n",
        "rmse_lr = np.sqrt(mse_lr)\n"
      ]
    },
    {
      "cell_type": "code",
      "execution_count": 64,
      "metadata": {
        "colab": {
          "base_uri": "https://localhost:8080/"
        },
        "id": "s6_k44vgjPlb",
        "outputId": "78ac2322-911b-41dc-d86e-64e35ac62306"
      },
      "outputs": [
        {
          "name": "stdout",
          "output_type": "stream",
          "text": [
            "\n",
            "--- Linear Regression Model Evaluation ---\n",
            "R-squared (R²) Score: -64509351397954504.0000\n",
            "Mean Absolute Error (MAE): 211544538.9356\n",
            "Root Mean Squared Error (RMSE): 14358559862.1514\n"
          ]
        }
      ],
      "source": [
        "print(\"\\n--- Linear Regression Model Evaluation ---\")\n",
        "print(f\"R-squared (R²) Score: {r2_lr:.4f}\")\n",
        "print(f\"Mean Absolute Error (MAE): {mae_lr:.4f}\")\n",
        "print(f\"Root Mean Squared Error (RMSE): {rmse_lr:.4f}\")"
      ]
    },
    {
      "cell_type": "code",
      "execution_count": 65,
      "metadata": {
        "id": "nbTneKFUjPjO"
      },
      "outputs": [],
      "source": [
        "from sklearn.ensemble import RandomForestRegressor\n",
        "import numpy as np\n",
        "\n",
        "# 1. Create an empty instance of the Random Forest Regressor model\n",
        "# n_estimators=100 means it will build 100 decision trees\n",
        "# random_state=42 ensures we get the same result every time\n",
        "# n_jobs=-1 tells the model to use all available CPU power to speed up training\n",
        "\n",
        "rf_model = RandomForestRegressor(n_estimators=100, random_state=42, n_jobs=-1)"
      ]
    },
    {
      "cell_type": "code",
      "execution_count": 66,
      "metadata": {
        "colab": {
          "base_uri": "https://localhost:8080/"
        },
        "id": "pbfENC8ojPhP",
        "outputId": "2addd900-3732-4494-faae-39011243179a"
      },
      "outputs": [
        {
          "name": "stdout",
          "output_type": "stream",
          "text": [
            "Training the Random Forest Model...\n",
            "Training Complete\n"
          ]
        }
      ],
      "source": [
        "#Train the model using the SAME training data\n",
        "print(\"Training the Random Forest Model...\")\n",
        "\n",
        "rf_model.fit(X_train,y_train)\n",
        "print(\"Training Complete\")"
      ]
    },
    {
      "cell_type": "code",
      "execution_count": 67,
      "metadata": {
        "colab": {
          "base_uri": "https://localhost:8080/"
        },
        "id": "HoH4T1hSjPe1",
        "outputId": "1a793dc8-4816-4bc1-c831-d870c34a8480"
      },
      "outputs": [
        {
          "name": "stdout",
          "output_type": "stream",
          "text": [
            "\n",
            "Making predictions with the Random Forest model...\n"
          ]
        }
      ],
      "source": [
        "#Make predictions with the new, powerful model\n",
        "\n",
        "print(\"\\nMaking predictions with the Random Forest model...\")\n",
        "y_pred_rf = rf_model.predict(X_test)\n"
      ]
    },
    {
      "cell_type": "code",
      "execution_count": 68,
      "metadata": {
        "id": "rQpx1nnkjPcg"
      },
      "outputs": [],
      "source": [
        "#Evaluate the new model using RMSE calculation\n",
        "\n",
        "r2_rf = r2_score(y_test, y_pred_rf)\n",
        "mae_rf = mean_absolute_error(y_test, y_pred_rf)\n",
        "mse_rf = mean_squared_error(y_test, y_pred_rf)\n",
        "rmse_rf = np.sqrt(mse_rf)"
      ]
    },
    {
      "cell_type": "code",
      "execution_count": 69,
      "metadata": {
        "colab": {
          "base_uri": "https://localhost:8080/"
        },
        "id": "hxpoXcZfkPQe",
        "outputId": "8283ad9a-3ef7-4a25-8ec2-7618718043a0"
      },
      "outputs": [
        {
          "name": "stdout",
          "output_type": "stream",
          "text": [
            "\n",
            "--- Model Comparison ---\n",
            "                    Random Forest   |   Linear Regression\n",
            "----------------------------------------------------------\n",
            "R-squared (R²) Score:   0.7152          |   -64509351397954504.0000\n",
            "Mean Absolute Error (MAE):  16.0553         |   211544538.9356\n",
            "Root Mean Squared Error (RMSE):30.1699         |   14358559862.1514\n"
          ]
        }
      ],
      "source": [
        "#Print the new results AND compare them with the Linear Regression results\n",
        "\n",
        "print(\"\\n--- Model Comparison ---\")\n",
        "print(\"                    Random Forest   |   Linear Regression\")\n",
        "print(\"----------------------------------------------------------\")\n",
        "print(f\"R-squared (R²) Score:   {r2_rf:.4f}          |   {r2_lr:.4f}\")\n",
        "print(f\"Mean Absolute Error (MAE):  {mae_rf:.4f}         |   {mae_lr:.4f}\")\n",
        "print(f\"Root Mean Squared Error (RMSE):{rmse_rf:.4f}         |   {rmse_lr:.4f}\")"
      ]
    },
    {
      "cell_type": "code",
      "execution_count": 70,
      "metadata": {
        "id": "iME8INHCkPNA"
      },
      "outputs": [
        {
          "ename": "ModuleNotFoundError",
          "evalue": "No module named 'matplotlib'",
          "output_type": "error",
          "traceback": [
            "\u001b[1;31m---------------------------------------------------------------------------\u001b[0m",
            "\u001b[1;31mModuleNotFoundError\u001b[0m                       Traceback (most recent call last)",
            "Cell \u001b[1;32mIn[70], line 2\u001b[0m\n\u001b[0;32m      1\u001b[0m \u001b[38;5;28;01mimport\u001b[39;00m\u001b[38;5;250m \u001b[39m\u001b[38;5;21;01mpandas\u001b[39;00m\u001b[38;5;250m \u001b[39m\u001b[38;5;28;01mas\u001b[39;00m\u001b[38;5;250m \u001b[39m\u001b[38;5;21;01mpd\u001b[39;00m\n\u001b[1;32m----> 2\u001b[0m \u001b[38;5;28;01mimport\u001b[39;00m\u001b[38;5;250m \u001b[39m\u001b[38;5;21;01mmatplotlib\u001b[39;00m\u001b[38;5;21;01m.\u001b[39;00m\u001b[38;5;21;01mpyplot\u001b[39;00m\u001b[38;5;250m \u001b[39m\u001b[38;5;28;01mas\u001b[39;00m\u001b[38;5;250m \u001b[39m\u001b[38;5;21;01mplt\u001b[39;00m\n\u001b[0;32m      3\u001b[0m \u001b[38;5;28;01mimport\u001b[39;00m\u001b[38;5;250m \u001b[39m\u001b[38;5;21;01mseaborn\u001b[39;00m\u001b[38;5;250m \u001b[39m\u001b[38;5;28;01mas\u001b[39;00m\u001b[38;5;250m \u001b[39m\u001b[38;5;21;01msns\u001b[39;00m\n",
            "\u001b[1;31mModuleNotFoundError\u001b[0m: No module named 'matplotlib'"
          ]
        }
      ],
      "source": [
        "import pandas as pd\n",
        "import matplotlib.pyplot as plt\n",
        "import seaborn as sns"
      ]
    },
    {
      "cell_type": "code",
      "execution_count": null,
      "metadata": {
        "id": "nJjBlAzTkVHI"
      },
      "outputs": [],
      "source": [
        "# Get the feature importances from the trained Random Forest model\n",
        "importances = rf_model.feature_importances_"
      ]
    },
    {
      "cell_type": "code",
      "execution_count": null,
      "metadata": {
        "id": "HBFlRIFZkYBl"
      },
      "outputs": [],
      "source": [
        "# Get the names of the features\n",
        "feature_names = X_train.columns"
      ]
    },
    {
      "cell_type": "code",
      "execution_count": null,
      "metadata": {
        "id": "hA3FBSQnkX-N"
      },
      "outputs": [],
      "source": [
        "# Create a DataFrame to view them together\n",
        "feature_importance_df = pd.DataFrame({'Feature': feature_names, 'Importance': importances})"
      ]
    },
    {
      "cell_type": "code",
      "execution_count": null,
      "metadata": {
        "id": "qYmuBEovkX7W"
      },
      "outputs": [],
      "source": [
        "# Sort the DataFrame to see the most important features at the top\n",
        "feature_importance_df = feature_importance_df.sort_values(by='Importance', ascending=False)"
      ]
    },
    {
      "cell_type": "code",
      "execution_count": null,
      "metadata": {
        "colab": {
          "base_uri": "https://localhost:8080/",
          "height": 429
        },
        "id": "S4suGzxbkX4i",
        "outputId": "4df096f0-bbde-4502-e3dc-04c0aa5a6671"
      },
      "outputs": [],
      "source": [
        "# Visualize the Top 10 most important features\n",
        "plt.figure(figsize=(10, 6)) # Set the size of the plot\n",
        "sns.barplot(x='Importance', y='Feature', data=feature_importance_df.head(10)) # Plot a bar chart\n",
        "plt.title('Top 10 Most Important Features for Predicting PM2.5 AQI')\n",
        "plt.xlabel('Importance Score')\n",
        "plt.ylabel('Feature')\n",
        "plt.grid(axis='x', linestyle='--', alpha=0.7)\n",
        "plt.show()"
      ]
    },
    {
      "cell_type": "code",
      "execution_count": null,
      "metadata": {
        "colab": {
          "base_uri": "https://localhost:8080/"
        },
        "id": "VGHbwHPGkl0M",
        "outputId": "d4624f01-f90e-46e5-e220-2a42c927fe33"
      },
      "outputs": [],
      "source": [
        "# Print the top 10 features\n",
        "print(\"\\nTop 10 most important features:\")\n",
        "print(feature_importance_df.head(10))"
      ]
    },
    {
      "cell_type": "code",
      "execution_count": 1,
      "metadata": {},
      "outputs": [
        {
          "name": "stdout",
          "output_type": "stream",
          "text": [
            "Loading and preprocessing data...\n",
            "Data shape after cleaning: (23035, 12)\n",
            "Shape after encoding: (23035, 178)\n",
            "Training set shape: (18428, 177)\n",
            "Test set shape: (4607, 177)\n",
            "Training models...\n"
          ]
        }
      ],
      "source": [
        "import joblib\n",
        "import pandas as pd\n",
        "from sklearn.model_selection import train_test_split\n",
        "from sklearn.linear_model import LinearRegression\n",
        "from sklearn.ensemble import RandomForestRegressor\n",
        "from sklearn.metrics import r2_score, mean_absolute_error, mean_squared_error\n",
        "import numpy as np\n",
        "\n",
        "# Load and preprocess the data\n",
        "print(\"Loading and preprocessing data...\")\n",
        "df = pd.read_csv('global air pollution dataset.csv')\n",
        "\n",
        "# Remove null values\n",
        "df.dropna(subset=['Country', 'City'], inplace=True)\n",
        "print(f\"Data shape after cleaning: {df.shape}\")\n",
        "\n",
        "# Remove data leakages\n",
        "columns_to_drop = [\n",
        "    'AQI Value',\n",
        "    'AQI Category',\n",
        "    'CO AQI Category',\n",
        "    'Ozone AQI Category',\n",
        "    'NO2 AQI Category',\n",
        "    'PM2.5 AQI Category'\n",
        "]\n",
        "df_cleaned = df.drop(columns=columns_to_drop, axis=1)\n",
        "\n",
        "# Drop City column to avoid curse of dimensionality\n",
        "df_cleaned = df_cleaned.drop(columns=['City'])\n",
        "\n",
        "# Apply One-Hot Encoding to Country column\n",
        "df_encoded = pd.get_dummies(df_cleaned, columns=['Country'], drop_first=True)\n",
        "print(f\"Shape after encoding: {df_encoded.shape}\")\n",
        "\n",
        "# Define features and target\n",
        "y = df_encoded['PM2.5 AQI Value']\n",
        "X = df_encoded.drop(columns=['PM2.5 AQI Value'], axis=1)\n",
        "\n",
        "# Split the data\n",
        "X_train, X_test, y_train, y_test = train_test_split(X, y, test_size=0.2, random_state=42)\n",
        "print(f\"Training set shape: {X_train.shape}\")\n",
        "print(f\"Test set shape: {X_test.shape}\")\n",
        "\n",
        "print(\"Training models...\")"
      ]
    },
    {
      "cell_type": "code",
      "execution_count": 2,
      "metadata": {},
      "outputs": [
        {
          "name": "stdout",
          "output_type": "stream",
          "text": [
            "Training Linear Regression model...\n",
            "Linear Regression Results:\n",
            "R² Score: -64509351397954504.0000\n",
            "MAE: 211544538.9356\n",
            "RMSE: 14358559862.1514\n",
            "\n",
            "Training Random Forest model...\n",
            "Random Forest Results:\n",
            "R² Score: 0.7152\n",
            "MAE: 16.0553\n",
            "RMSE: 30.1699\n",
            "\n",
            "--- Model Comparison ---\n",
            "                    Random Forest   |   Linear Regression\n",
            "----------------------------------------------------------\n",
            "R-squared (R²) Score:   0.7152          |   -64509351397954504.0000\n",
            "Mean Absolute Error (MAE):  16.0553         |   211544538.9356\n",
            "Root Mean Squared Error (RMSE):30.1699         |   14358559862.1514\n"
          ]
        }
      ],
      "source": [
        "# Train Linear Regression Model\n",
        "print(\"Training Linear Regression model...\")\n",
        "lr_model = LinearRegression()\n",
        "lr_model.fit(X_train, y_train)\n",
        "y_pred_lr = lr_model.predict(X_test)\n",
        "\n",
        "# Evaluate Linear Regression\n",
        "r2_lr = r2_score(y_test, y_pred_lr)\n",
        "mae_lr = mean_absolute_error(y_test, y_pred_lr)\n",
        "mse_lr = mean_squared_error(y_test, y_pred_lr)\n",
        "rmse_lr = np.sqrt(mse_lr)\n",
        "\n",
        "print(\"Linear Regression Results:\")\n",
        "print(f\"R² Score: {r2_lr:.4f}\")\n",
        "print(f\"MAE: {mae_lr:.4f}\")\n",
        "print(f\"RMSE: {rmse_lr:.4f}\")\n",
        "\n",
        "# Train Random Forest Model\n",
        "print(\"\\nTraining Random Forest model...\")\n",
        "rf_model = RandomForestRegressor(n_estimators=100, random_state=42, n_jobs=-1)\n",
        "rf_model.fit(X_train, y_train)\n",
        "y_pred_rf = rf_model.predict(X_test)\n",
        "\n",
        "# Evaluate Random Forest\n",
        "r2_rf = r2_score(y_test, y_pred_rf)\n",
        "mae_rf = mean_absolute_error(y_test, y_pred_rf)\n",
        "mse_rf = mean_squared_error(y_test, y_pred_rf)\n",
        "rmse_rf = np.sqrt(mse_rf)\n",
        "\n",
        "print(\"Random Forest Results:\")\n",
        "print(f\"R² Score: {r2_rf:.4f}\")\n",
        "print(f\"MAE: {mae_rf:.4f}\")\n",
        "print(f\"RMSE: {rmse_rf:.4f}\")\n",
        "\n",
        "print(\"\\n--- Model Comparison ---\")\n",
        "print(\"                    Random Forest   |   Linear Regression\")\n",
        "print(\"----------------------------------------------------------\")\n",
        "print(f\"R-squared (R²) Score:   {r2_rf:.4f}          |   {r2_lr:.4f}\")\n",
        "print(f\"Mean Absolute Error (MAE):  {mae_rf:.4f}         |   {mae_lr:.4f}\")\n",
        "print(f\"Root Mean Squared Error (RMSE):{rmse_rf:.4f}         |   {rmse_lr:.4f}\")"
      ]
    },
    {
      "cell_type": "code",
      "execution_count": 3,
      "metadata": {},
      "outputs": [
        {
          "name": "stdout",
          "output_type": "stream",
          "text": [
            "\n",
            "Saving models to joblib files...\n",
            "✓ Linear Regression model saved as 'linear_regression_air_pollution_model.joblib'\n",
            "✓ Random Forest model saved as 'random_forest_air_pollution_model.joblib'\n",
            "✓ Feature names saved as 'feature_names.joblib'\n",
            "\n",
            "Total features used: 177\n",
            "Models successfully saved and ready for deployment!\n"
          ]
        }
      ],
      "source": [
        "# Save the trained models using joblib\n",
        "print(\"\\nSaving models to joblib files...\")\n",
        "\n",
        "# Save Linear Regression model\n",
        "joblib.dump(lr_model, 'linear_regression_air_pollution_model.joblib')\n",
        "print(\"✓ Linear Regression model saved as 'linear_regression_air_pollution_model.joblib'\")\n",
        "\n",
        "# Save Random Forest model\n",
        "joblib.dump(rf_model, 'random_forest_air_pollution_model.joblib')\n",
        "print(\"✓ Random Forest model saved as 'random_forest_air_pollution_model.joblib'\")\n",
        "\n",
        "# Also save the feature names for future use\n",
        "feature_names = X_train.columns.tolist()\n",
        "joblib.dump(feature_names, 'feature_names.joblib')\n",
        "print(\"✓ Feature names saved as 'feature_names.joblib'\")\n",
        "\n",
        "print(f\"\\nTotal features used: {len(feature_names)}\")\n",
        "print(\"Models successfully saved and ready for deployment!\")"
      ]
    },
    {
      "cell_type": "code",
      "execution_count": 4,
      "metadata": {},
      "outputs": [
        {
          "name": "stdout",
          "output_type": "stream",
          "text": [
            "=== Loading Saved Models ===\n",
            "✓ Linear Regression model loaded successfully\n",
            "✓ Random Forest model loaded successfully\n",
            "✓ Feature names loaded successfully\n",
            "\n",
            "Model details:\n",
            "- Number of features: 177\n",
            "- Random Forest estimators: 100\n",
            "\n",
            "=== Example Prediction ===\n",
            "Actual PM2.5 AQI Value: 139\n",
            "Linear Regression Prediction: 143.29\n",
            "Random Forest Prediction: 144.63\n",
            "Random Forest Error: 5.63\n",
            "\n",
            "🎉 Models are ready for production use!\n"
          ]
        }
      ],
      "source": [
        "# Demonstration: How to load and use the saved models\n",
        "print(\"=== Loading Saved Models ===\")\n",
        "\n",
        "# Load the saved models\n",
        "loaded_lr_model = joblib.load('linear_regression_air_pollution_model.joblib')\n",
        "loaded_rf_model = joblib.load('random_forest_air_pollution_model.joblib')\n",
        "loaded_feature_names = joblib.load('feature_names.joblib')\n",
        "\n",
        "print(\"✓ Linear Regression model loaded successfully\")\n",
        "print(\"✓ Random Forest model loaded successfully\")\n",
        "print(\"✓ Feature names loaded successfully\")\n",
        "\n",
        "print(f\"\\nModel details:\")\n",
        "print(f\"- Number of features: {len(loaded_feature_names)}\")\n",
        "print(f\"- Random Forest estimators: {loaded_rf_model.n_estimators}\")\n",
        "\n",
        "# Example prediction using a sample from the test set\n",
        "print(\"\\n=== Example Prediction ===\")\n",
        "sample_index = 0\n",
        "sample_features = X_test.iloc[sample_index:sample_index+1]\n",
        "actual_value = y_test.iloc[sample_index]\n",
        "\n",
        "# Make predictions with both models\n",
        "lr_prediction = loaded_lr_model.predict(sample_features)[0]\n",
        "rf_prediction = loaded_rf_model.predict(sample_features)[0]\n",
        "\n",
        "print(f\"Actual PM2.5 AQI Value: {actual_value}\")\n",
        "print(f\"Linear Regression Prediction: {lr_prediction:.2f}\")\n",
        "print(f\"Random Forest Prediction: {rf_prediction:.2f}\")\n",
        "print(f\"Random Forest Error: {abs(rf_prediction - actual_value):.2f}\")\n",
        "\n",
        "print(\"\\n🎉 Models are ready for production use!\")"
      ]
    }
  ],
  "metadata": {
    "colab": {
      "provenance": []
    },
    "kernelspec": {
      "display_name": "Python 3",
      "name": "python3"
    },
    "language_info": {
      "codemirror_mode": {
        "name": "ipython",
        "version": 3
      },
      "file_extension": ".py",
      "mimetype": "text/x-python",
      "name": "python",
      "nbconvert_exporter": "python",
      "pygments_lexer": "ipython3",
      "version": "3.10.0"
    }
  },
  "nbformat": 4,
  "nbformat_minor": 0
}
